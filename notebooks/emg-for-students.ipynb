{
 "nbformat": 4,
 "nbformat_minor": 0,
 "metadata": {
  "colab": {
   "provenance": [],
   "toc_visible": true
  },
  "kernelspec": {
   "name": "python3",
   "display_name": "Python 3"
  },
  "language_info": {
   "name": "python"
  },
  "gpuClass": "standard"
 },
 "cells": [
  {
   "cell_type": "markdown",
   "source": [
    "# Recognizing hand gestures from EMG signal\n",
    "\n",
    "Author: Eitan Hemed, PhD"
   ],
   "metadata": {
    "collapsed": false
   }
  },
  {
   "cell_type": "markdown",
   "source": [
    "## Table of contents\n",
    "- [Introduction](#Introduction)\n",
    "- [Preparation](#Preparation)\n",
    "    - [Imports](#Imports)\n",
    "    - [Defining helper functions](#Defining-helper-functions)\n",
    "    - [Getting the dataset](#Getting-the-dataset)\n",
    "    - [Load the data](#Load-the-data)\n",
    "- [Wrangling and tidying](#Wrangling-and-tidying)\n",
    "    - [Segment data to trials](#Segment-data-to-trials)\n",
    "    - [General tidying](#General-tidying)\n",
    "        - [Odd and missing gesture information](#Odd-and-missing-gesture-information)\n",
    "- [Exploring channel data](#Exploring-channel-data)\n",
    "- [Feature engineering](#Feature-engineering)\n",
    "- [Save the data](#Save-the-data)"
   ],
   "metadata": {
    "collapsed": false
   }
  },
  {
   "cell_type": "markdown",
   "source": [
    "## Introduction\n",
    "This notebook serves as starter template to working with data from the paper **Latent Factors Limiting the Performance of sEMG-Interfaces** [Lobov et al., (2018)](https://www.mdpi.com/1424-8220/18/4/1122).\n",
    "\n",
    "\n",
    "\n",
    "### The study\n",
    "\n",
    "In this study, the authors recorded surface electromyography (sEMG) signals from subjects. sEMG is a non-invasive method for recording electrical activity of muscles. The authors recorded the sEMG signals while subjects performed several gestures, and while they were at rest.\n",
    "\n",
    "The data from the recording was then used to train a classifier to recognize the performed gesture from the sEMG signal. Later used to control the sprite in a PC game.\n",
    "\n",
    "### This notebook\n",
    "This notebook includes the pooling and tidying of the data from the paper. Then, some exploration of the data, and finally, basic feature engineering. Use it as a starting point for your own analysis.\n",
    "\n"
   ],
   "metadata": {
    "collapsed": false
   }
  },
  {
   "cell_type": "markdown",
   "source": [
    "## Preparation"
   ],
   "metadata": {
    "collapsed": false
   }
  },
  {
   "cell_type": "markdown",
   "source": [
    "### Imports"
   ],
   "metadata": {
    "id": "ICBAuTTLWrTL"
   }
  },
  {
   "cell_type": "code",
   "source": [
    "import re\n",
    "import tqdm\n",
    "import os\n",
    "import glob\n",
    "import requests\n",
    "import shutil\n",
    "\n",
    "import seaborn as sns\n",
    "\n",
    "import matplotlib.pyplot as plt\n",
    "\n",
    "import numpy as np\n",
    "import pandas as pd\n",
    "\n",
    "np.random.seed(999)"
   ],
   "metadata": {
    "id": "TELvdNuKpdip",
    "colab": {
     "base_uri": "https://localhost:8080/"
    },
    "outputId": "e777abfc-6b50-4084-a05a-6ab0dcf8af13"
   },
   "execution_count": null,
   "outputs": []
  },
  {
   "cell_type": "markdown",
   "source": [
    "### Defining helper functions\n"
   ],
   "metadata": {
    "collapsed": false
   }
  },
  {
   "cell_type": "code",
   "source": [
    "def root_mean_square(s: np.array) -> np.array:\n",
    "    return np.sqrt(np.mean(np.power(s, 2)))\n",
    "\n",
    "def mean_abs_val(s: np.array) -> np.array:\n",
    "    return np.mean(np.abs(s))\n",
    "\n",
    "def prep_single_df(fname: str) -> pd.DataFrame:\n",
    "    _df = pd.read_csv(fname, sep='\\t')\n",
    "    data_info = re.findall(r'\\d+', fname)\n",
    "    subject, session = data_info[:2]\n",
    "    timestamp = data_info[2:]\n",
    "    _df = _df.assign(subject=subject, session=session)\n",
    "    return _df"
   ],
   "metadata": {
    "id": "VycEs8MEi9TL"
   },
   "execution_count": null,
   "outputs": []
  },
  {
   "cell_type": "markdown",
   "source": [
    "### Getting the dataset"
   ],
   "metadata": {
    "id": "KbCptF-gWxYF"
   }
  },
  {
   "cell_type": "markdown",
   "source": [
    "Download the dataset (a zip folder) into the current directory"
   ],
   "metadata": {
    "collapsed": false
   }
  },
  {
   "cell_type": "code",
   "execution_count": null,
   "metadata": {
    "colab": {
     "base_uri": "https://localhost:8080/"
    },
    "id": "lOeU8RkKpXnr",
    "outputId": "43959811-8ab5-4273-e801-731319d3402c"
   },
   "outputs": [],
   "source": [
    "url = 'https://archive.ics.uci.edu/ml/machine-learning-databases/00481/EMG_data_for_gestures-master.zip'\n",
    "zip_data_path = f\"../{url.split('/')[-1]}\"\n",
    "\n",
    "with requests.get(url, stream=True) as r:\n",
    "    with open(zip_data_path, 'wb') as f:\n",
    "        shutil.copyfileobj(r.raw, f)"
   ]
  },
  {
   "cell_type": "markdown",
   "source": [
    "Extract the dataset into a new folder, and remove the zip file."
   ],
   "metadata": {
    "collapsed": false
   }
  },
  {
   "cell_type": "code",
   "execution_count": null,
   "outputs": [],
   "source": [
    "!dir .."
   ],
   "metadata": {
    "collapsed": false
   }
  },
  {
   "cell_type": "code",
   "execution_count": null,
   "outputs": [],
   "source": [
    "shutil.unpack_archive(zip_data_path, '..')\n",
    "if not os.path.exists('../input-data'):\n",
    "    os.rename(os.path.splitext(zip_data_path)[0], '../input-data')\n",
    "os.remove(zip_data_path)"
   ],
   "metadata": {
    "collapsed": false
   }
  },
  {
   "cell_type": "code",
   "source": [
    "# Print the description of the dataset\n",
    "!cat ../input-data/README.txt"
   ],
   "metadata": {
    "colab": {
     "base_uri": "https://localhost:8080/"
    },
    "id": "w55G69Hrqy3Q",
    "outputId": "1f3678b7-7724-4c73-87f8-887574411900"
   },
   "execution_count": null,
   "outputs": []
  },
  {
   "cell_type": "markdown",
   "source": [
    "## Load the data"
   ],
   "metadata": {
    "collapsed": false
   }
  },
  {
   "cell_type": "code",
   "execution_count": null,
   "outputs": [],
   "source": [
    "raw_data_file_paths = glob.glob('../input-data/*/*.txt')"
   ],
   "metadata": {
    "collapsed": false
   }
  },
  {
   "cell_type": "code",
   "source": [
    "df = pd.concat([prep_single_df(fname) for fname in tqdm.tqdm(raw_data_file_paths)],\n",
    "                ignore_index=True).rename({'class': 'gesture'}, axis=1)"
   ],
   "metadata": {
    "id": "XbiEij2tvOBM"
   },
   "execution_count": null,
   "outputs": []
  },
  {
   "cell_type": "markdown",
   "source": [
    "## Wrangling and tidying"
   ],
   "metadata": {
    "collapsed": false
   }
  },
  {
   "cell_type": "markdown",
   "source": [
    "### Segment data to trials"
   ],
   "metadata": {
    "collapsed": false
   }
  },
  {
   "cell_type": "markdown",
   "source": [
    "The data is not segmented into epochs or trials, but we know that participants should perform a gesture, have some unmarked inter-trial-interval data (i.e., unmarked), then perform another gesture.\n",
    "\n",
    "Partition each session into trials, where on each trial a different gesture is performed. Finding trial onsets is the matter of finding a difference in the performed gesture.\n",
    "\n",
    "-----------------\n",
    "\n",
    "There is however one missing value for the gesture data. If it is not removed, it will result in very odd data down the line."
   ],
   "metadata": {
    "collapsed": false
   }
  },
  {
   "cell_type": "code",
   "execution_count": null,
   "outputs": [],
   "source": [
    "df['gesture'].isna().sum()"
   ],
   "metadata": {
    "collapsed": false
   }
  },
  {
   "cell_type": "markdown",
   "source": [
    "**For educational purposes, don't drop this value first, and continue up to the analysis of trial duration. Then come back, uncomment the data removal, and re-do the previous cells from data loading, and continue to advance.**"
   ],
   "metadata": {
    "collapsed": false
   }
  },
  {
   "cell_type": "code",
   "execution_count": null,
   "outputs": [],
   "source": [
    "df = df.dropna(subset=['gesture'])"
   ],
   "metadata": {
    "collapsed": false
   }
  },
  {
   "cell_type": "code",
   "execution_count": null,
   "outputs": [],
   "source": [
    "df = df.sort_values(['subject', 'session', 'time'])\n",
    "\n",
    "df['first_frame_on_trial'] = df.groupby(['subject', 'session'])['gesture'].diff().ne(0)\n",
    "\n",
    "\n",
    "df['first_frame_on_trial'] = df['first_frame_on_trial'].replace(\n",
    "    {True: 1, False: np.nan})\n",
    "\n",
    "onsets = df.loc[df['first_frame_on_trial'].notna()]\n",
    "numof_onsets = onsets.shape[0]"
   ],
   "metadata": {
    "collapsed": false
   }
  },
  {
   "cell_type": "markdown",
   "source": [
    "Next, assign trial numbers to each onset, and forward fill the trial numbers (to indicate consecutive frames belonging to the same trial)."
   ],
   "metadata": {
    "collapsed": false
   }
  },
  {
   "cell_type": "code",
   "execution_count": null,
   "outputs": [],
   "source": [
    "df.loc[onsets.index.values, 'trial_num'] = np.concatenate(\n",
    "    onsets.groupby(['subject', 'session']).apply(lambda s: np.arange(s.shape[0])).values)\n",
    "# Forward fill the trial numbers\n",
    "df['trial_num'] = df['trial_num'].ffill().values.astype(int)\n",
    "# This column is no longer needed\n",
    "df = df.drop('first_frame_on_trial', axis=1)"
   ],
   "metadata": {
    "collapsed": false
   }
  },
  {
   "cell_type": "markdown",
   "source": [
    "Mark the sample index within each trial, to be used later for aggregating the data into 200ms bins"
   ],
   "metadata": {
    "collapsed": false
   }
  },
  {
   "cell_type": "code",
   "execution_count": null,
   "outputs": [],
   "source": [
    "df['time_within_trial'] = df.groupby(['subject', 'session', 'trial_num'])['time'].transform(\n",
    "    lambda s: s - s.min())"
   ],
   "metadata": {
    "collapsed": false
   }
  },
  {
   "cell_type": "markdown",
   "source": [
    "What is the distribution of the duration of trials?"
   ],
   "metadata": {
    "collapsed": false
   }
  },
  {
   "cell_type": "code",
   "execution_count": null,
   "outputs": [],
   "source": [
    "df.groupby(['subject', 'session', 'trial_num'])['time_within_trial'].describe()[['mean', 'max']].hist()"
   ],
   "metadata": {
    "collapsed": false
   }
  },
  {
   "cell_type": "markdown",
   "source": [
    "Exploring the duration of unmarked data VS. gestures."
   ],
   "metadata": {
    "collapsed": false
   }
  },
  {
   "cell_type": "code",
   "execution_count": null,
   "outputs": [],
   "source": [
    "df['marked_data'] = df['gesture'].ne(0)\n",
    "df.groupby(['marked_data', 'subject', 'session', 'trial_num'])['time_within_trial'].max().reset_index().groupby('marked_data')['time_within_trial'].agg(\n",
    "    ['mean', 'max', lambda s: s.quantile(0.95), lambda s: s.quantile(0.99)])"
   ],
   "metadata": {
    "collapsed": false
   }
  },
  {
   "cell_type": "markdown",
   "source": [
    "It seems that trials last up to 6000 milliseconds or so, but unmarked data might stretch up to almost 35000 milliseconds. We will remove all unmarked data after 5000 milliseconds, to equate it with the duration of the marked data.\n",
    "\n",
    "-----------------\n",
    "\n",
    "Compare this plot when the missing value is removed, or when it is not removed."
   ],
   "metadata": {
    "collapsed": false
   }
  },
  {
   "cell_type": "code",
   "execution_count": null,
   "outputs": [],
   "source": [
    "df = df.loc[df['time_within_trial'] < 5000]"
   ],
   "metadata": {
    "collapsed": false
   }
  },
  {
   "cell_type": "code",
   "execution_count": null,
   "outputs": [],
   "source": [
    "# df.loc[df['time_within_trial'] > 6000].groupby(['subject', 'session', 'gesture', 'trial_num'])['time_within_trial'].max()"
   ],
   "metadata": {
    "collapsed": false
   }
  },
  {
   "cell_type": "markdown",
   "source": [
    "We can see now that we have a lot of `unmarked-data` epochs. They usually have longer duration than the marked epochs."
   ],
   "metadata": {
    "collapsed": false
   }
  },
  {
   "cell_type": "code",
   "execution_count": null,
   "outputs": [],
   "source": [
    "sns.FacetGrid(col='gesture', col_wrap=4, data=df.groupby(['subject', 'session', 'trial_num', 'gesture']\n",
    "                                                         )['time_within_trial'].max().reset_index()).map(\n",
    "    sns.histplot, 'time_within_trial', bins=30)"
   ],
   "metadata": {
    "collapsed": false
   }
  },
  {
   "cell_type": "markdown",
   "source": [
    "#### What is the sampling frequency of data?"
   ],
   "metadata": {
    "collapsed": false
   }
  },
  {
   "cell_type": "markdown",
   "source": [
    "To get the sampling frqeuency, we can divide the duration of each trial by the number of samples in it."
   ],
   "metadata": {
    "collapsed": false
   }
  },
  {
   "cell_type": "code",
   "execution_count": null,
   "outputs": [],
   "source": [
    "trial_duration_data = df.groupby(['subject', 'session', 'trial_num'])[\n",
    "    'time_within_trial'].agg(['max', 'count']).rename({'count': 'numof_samples'}, axis=1).reset_index()"
   ],
   "metadata": {
    "collapsed": false
   }
  },
  {
   "cell_type": "code",
   "execution_count": null,
   "outputs": [],
   "source": [
    "trial_duration_data['sampling_frequency'] = (trial_duration_data['max'] /\n",
    "    trial_duration_data['numof_samples']).round(2)\n",
    "trial_duration_data.head()"
   ],
   "metadata": {
    "collapsed": false
   }
  },
  {
   "cell_type": "code",
   "execution_count": null,
   "outputs": [],
   "source": [
    "g = sns.FacetGrid(trial_duration_data, col='session', col_wrap=3)\n",
    "g.map(plt.hist, 'sampling_frequency')"
   ],
   "metadata": {
    "collapsed": false
   }
  },
  {
   "cell_type": "markdown",
   "source": [
    "It seems that the sampling frequency is not constant, but most values are around 1MS (i.e., 1000Hz - as expected from the paper)."
   ],
   "metadata": {
    "collapsed": false
   }
  },
  {
   "cell_type": "markdown",
   "source": [
    "### General tidying"
   ],
   "metadata": {
    "collapsed": false
   }
  },
  {
   "cell_type": "markdown",
   "source": [
    "Subject and session are represented as strings, but they should be integers"
   ],
   "metadata": {
    "collapsed": false
   }
  },
  {
   "cell_type": "code",
   "execution_count": null,
   "outputs": [],
   "source": [
    "df.dtypes.tail()"
   ],
   "metadata": {
    "collapsed": false
   }
  },
  {
   "cell_type": "code",
   "execution_count": null,
   "outputs": [],
   "source": [
    "df[['subject', 'session', 'gesture']] = df[['subject', 'session', 'gesture']].astype(int).values"
   ],
   "metadata": {
    "collapsed": false
   }
  },
  {
   "cell_type": "markdown",
   "source": [
    "#### Odd and missing gesture information"
   ],
   "metadata": {
    "collapsed": false
   }
  },
  {
   "cell_type": "markdown",
   "source": [
    "Some subjects have more than 7 different gestures (extended palm gesture was not recorded for most)."
   ],
   "metadata": {
    "collapsed": false
   }
  },
  {
   "cell_type": "code",
   "execution_count": null,
   "outputs": [],
   "source": [
    "df.groupby('subject')['gesture'].nunique().value_counts()"
   ],
   "metadata": {
    "collapsed": false
   }
  },
  {
   "cell_type": "markdown",
   "source": [
    "We can either remove the subjects, or remove the periods with the extra gesture, either way, here are their subject and session IDs."
   ],
   "metadata": {
    "collapsed": false
   }
  },
  {
   "cell_type": "code",
   "execution_count": null,
   "outputs": [],
   "source": [
    "more_than_seven_gestures = df.groupby(['subject', 'session'])['gesture'].nunique().reset_index(\n",
    "    ).rename({'gesture': 'numof_classes'}, axis=1).query(\n",
    "    'numof_classes > 7')\n",
    "\n",
    "more_than_seven_gestures"
   ],
   "metadata": {
    "collapsed": false
   }
  },
  {
   "cell_type": "markdown",
   "source": [
    "Here we select to remove these periods from the data."
   ],
   "metadata": {
    "collapsed": false
   }
  },
  {
   "cell_type": "code",
   "execution_count": null,
   "outputs": [],
   "source": [
    "df = df.loc[df['gesture'] != 7]"
   ],
   "metadata": {
    "collapsed": false
   }
  },
  {
   "cell_type": "markdown",
   "source": [
    "We can visualize the allocation of gestures throughout sessions."
   ],
   "metadata": {
    "collapsed": false
   }
  },
  {
   "cell_type": "code",
   "execution_count": null,
   "outputs": [],
   "source": [
    "g = sns.FacetGrid(df.groupby(['subject', 'session', 'trial_num', 'gesture'])[\n",
    "                  'time_within_trial'].first().reset_index(), col='session', col_wrap=2, hue='subject')\n",
    "g.map(sns.lineplot, 'trial_num', 'gesture')"
   ],
   "metadata": {
    "collapsed": false
   }
  },
  {
   "cell_type": "markdown",
   "source": [
    "We can see that almost all subjects performed the gestures in the same order - 0-1-0-2 and so on, and then repeated all gestures again (within that session). This is not ideal of course, as a confounding factor - of the order of the gestures is introduced. This might for example interfere with fatigure when performing gestures number 6 and 7."
   ],
   "metadata": {
    "collapsed": false
   }
  },
  {
   "cell_type": "markdown",
   "source": [
    "One last thing we can do when tidying the dataset it to further segment each trial into periods of 200MS. This is the period used in the paper to calculate the features."
   ],
   "metadata": {
    "collapsed": false
   }
  },
  {
   "cell_type": "code",
   "execution_count": null,
   "outputs": [],
   "source": [
    "df['epoch'] = (df['time_within_trial'] // 200).values"
   ],
   "metadata": {
    "collapsed": false
   }
  },
  {
   "cell_type": "code",
   "execution_count": null,
   "outputs": [],
   "source": [
    "df.loc[(df['subject'] == 1) & (df['session'] == 1)].groupby(['trial_num', 'epoch']).first().reset_index()[['time', 'time_within_trial', 'epoch']]"
   ],
   "metadata": {
    "collapsed": false
   }
  },
  {
   "cell_type": "markdown",
   "source": [
    "## Exploring channel data\n",
    "\n"
   ],
   "metadata": {
    "collapsed": false
   }
  },
  {
   "cell_type": "markdown",
   "source": [
    "We can finally look at the EMG data. It is specified in micro-volts (uV), which is 1-millionth of a volt. We will multiply it by 1e6, for convenience. The data was recorded on 8 channels."
   ],
   "metadata": {
    "collapsed": false
   }
  },
  {
   "cell_type": "code",
   "execution_count": null,
   "outputs": [],
   "source": [
    "df[df.filter(regex='channel\\d$').columns] = (df.filter(regex='channel\\d$') * 1e6).round(3)"
   ],
   "metadata": {
    "collapsed": false
   }
  },
  {
   "cell_type": "markdown",
   "source": [
    "Here we show data from different gestures."
   ],
   "metadata": {
    "collapsed": false
   }
  },
  {
   "cell_type": "code",
   "execution_count": null,
   "outputs": [],
   "source": [
    "g = sns.FacetGrid(df.loc[(df['gesture'] > 0) & (df['subject'] == 1)].groupby(['subject', 'time_within_trial', 'gesture']\n",
    "                                                                             )[['channel1', 'channel3', 'channel5']].mean().reset_index(),\n",
    "                  hue='subject', col='gesture', col_wrap=3)\n",
    "g.map(sns.lineplot, 'time_within_trial', 'channel1', color='black')\n",
    "g.map(sns.lineplot, 'time_within_trial', 'channel3', color='red', alpha=0.5)\n",
    "# Add the legend to first plot\n",
    "legend_handles, legend_labels = g.axes[0].get_legend_handles_labels()\n",
    "g.axes[0].legend(legend_handles, ['Channel #1', 'Channel #3'])\n",
    "[ax.set_ylabel('Amplitude (uV * 1e6)') for ax in g.axes[[0, 3]]]\n",
    "[ax.set_xlabel('Time (MS)') for ax in g.axes[[3, 4, 5]]]"
   ],
   "metadata": {
    "collapsed": false
   }
  },
  {
   "cell_type": "markdown",
   "source": [
    "We can see that it is quite noisy, but at least the scale of the noise is different for different gestures."
   ],
   "metadata": {
    "collapsed": false
   }
  },
  {
   "cell_type": "markdown",
   "source": [
    "## Feature engineering"
   ],
   "metadata": {
    "collapsed": false
   }
  },
  {
   "cell_type": "markdown",
   "source": [
    "Common EMG features are root-mean-square and mean-absolute-value, calculated on each value. Here they are calculated per trial, we can also calculate them per period (200MS) within each trial."
   ],
   "metadata": {
    "collapsed": false
   }
  },
  {
   "cell_type": "code",
   "execution_count": null,
   "outputs": [],
   "source": [
    "# Prepare the arguments for the aggregation - a dictionary of the new column names, and the functions to apply\n",
    "agg_args = {k: [root_mean_square, mean_abs_val] for k in df.filter(regex='channel\\d$').columns}\n",
    "\n",
    "aggregated_df = df.groupby(['subject', 'session', 'trial_num', 'epoch'])[\n",
    "    list(agg_args.keys())].agg(\n",
    "    agg_args)"
   ],
   "metadata": {
    "collapsed": false
   }
  },
  {
   "cell_type": "code",
   "execution_count": null,
   "outputs": [],
   "source": [
    "aggregated_df.head()"
   ],
   "metadata": {
    "collapsed": false
   }
  },
  {
   "cell_type": "markdown",
   "source": [
    "Accessing the Multindex"
   ],
   "metadata": {
    "collapsed": false
   }
  },
  {
   "cell_type": "code",
   "execution_count": null,
   "outputs": [],
   "source": [
    "aggregated_df.head().loc[(1, 1, 0), 'channel1']"
   ],
   "metadata": {
    "collapsed": false
   }
  },
  {
   "cell_type": "markdown",
   "source": [
    "## Save the data\n",
    "\n",
    "To be used on further lessons - plotting, modelling, etc.\n",
    "\n",
    "The file is quite large, so we will save it as a zipped dataframe (can still be read with `pd.read_csv`)."
   ],
   "metadata": {
    "collapsed": false
   }
  },
  {
   "cell_type": "code",
   "execution_count": null,
   "outputs": [],
   "source": [
    "df.to_csv('../output/output-data/emg-data-clean.zip ', index=False)"
   ],
   "metadata": {
    "collapsed": false
   }
  }
 ]
}
