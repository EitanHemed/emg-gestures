{
 "nbformat": 4,
 "nbformat_minor": 0,
 "metadata": {
  "colab": {
   "provenance": [],
   "toc_visible": true
  },
  "kernelspec": {
   "name": "python3",
   "display_name": "Python 3"
  },
  "language_info": {
   "name": "python"
  },
  "gpuClass": "standard"
 },
 "cells": [
  {
   "cell_type": "markdown",
   "source": [
    "# Recognizing hand gestures from EMG signal\n",
    "\n",
    "### Author: Eitan Hemed, PhD"
   ],
   "metadata": {
    "collapsed": false
   }
  },
  {
   "cell_type": "markdown",
   "source": [
    "## Table of contents\n",
    "- [Introduction](#Introduction)"
   ],
   "metadata": {
    "collapsed": false
   }
  },
  {
   "cell_type": "markdown",
   "source": [
    "## Introduction\n",
    "This notebook serves as starter template to working with data from the paper **Latent Factors Limiting the Performance of sEMG-Interfaces** [Lobov et al., (2018)](https://www.mdpi.com/1424-8220/18/4/1122).\n",
    "\n",
    "\n",
    "\n",
    "### The study\n",
    "\n",
    "In this study, the authors recorded surface electromyography (sEMG) signals from subjects. sEMG is a non-invasive method for recording electrical activity of muscles. The authors recorded the sEMG signals while subjects performed several gestures, and while they were at rest.\n",
    "\n",
    "The data from the recording was then used to train a classifier to recognize the performed gesture from the sEMG signal. Later used to control the sprite in a PC game.\n",
    "\n",
    "### This notebook\n",
    "This notebook includes the pooling and tidying of the data from the paper. Then, some exploration of the data, and finally, basic feature engineering. Use it as a starting point for your own analysis.\n",
    "\n"
   ],
   "metadata": {
    "collapsed": false
   }
  },
  {
   "cell_type": "markdown",
   "source": [
    "## Preparation"
   ],
   "metadata": {
    "collapsed": false
   }
  },
  {
   "cell_type": "markdown",
   "source": [
    "### Imports"
   ],
   "metadata": {
    "id": "ICBAuTTLWrTL"
   }
  },
  {
   "cell_type": "code",
   "source": [
    "import re\n",
    "import tqdm\n",
    "import os\n",
    "import glob\n",
    "import requests\n",
    "import shutil\n",
    "\n",
    "import seaborn as sns\n",
    "\n",
    "import matplotlib.pyplot as plt\n",
    "\n",
    "import numpy as np\n",
    "import pandas as pd\n",
    "\n",
    "np.random.seed(999)"
   ],
   "metadata": {
    "id": "TELvdNuKpdip",
    "colab": {
     "base_uri": "https://localhost:8080/"
    },
    "outputId": "e777abfc-6b50-4084-a05a-6ab0dcf8af13"
   },
   "execution_count": 114,
   "outputs": []
  },
  {
   "cell_type": "markdown",
   "source": [
    "### Defining helper functions\n"
   ],
   "metadata": {
    "collapsed": false
   }
  },
  {
   "cell_type": "code",
   "source": [
    "def root_mean_square(s: np.array) -> np.array:\n",
    "    return np.sqrt(np.mean(np.power(s, 2)))\n",
    "\n",
    "def mean_abs_val(s: np.array) -> np.array:\n",
    "    return np.mean(np.abs(s))\n",
    "\n",
    "def prep_single_df(fname: str) -> pd.DataFrame:\n",
    "    _df = pd.read_csv(fname, sep='\\t')\n",
    "    data_info = re.findall(r'\\d+', fname)\n",
    "    subject, session = data_info[:2]\n",
    "    timestamp = data_info[2:]\n",
    "    _df = _df.assign(subject=subject, session=session)\n",
    "    return _df"
   ],
   "metadata": {
    "id": "VycEs8MEi9TL"
   },
   "execution_count": 71,
   "outputs": []
  },
  {
   "cell_type": "markdown",
   "source": [
    "## Getting the dataset"
   ],
   "metadata": {
    "id": "KbCptF-gWxYF"
   }
  },
  {
   "cell_type": "markdown",
   "source": [
    "Download the dataset (a zip folder) into the current directory"
   ],
   "metadata": {
    "collapsed": false
   }
  },
  {
   "cell_type": "code",
   "execution_count": 72,
   "metadata": {
    "colab": {
     "base_uri": "https://localhost:8080/"
    },
    "id": "lOeU8RkKpXnr",
    "outputId": "43959811-8ab5-4273-e801-731319d3402c"
   },
   "outputs": [],
   "source": [
    "url = 'https://archive.ics.uci.edu/ml/machine-learning-databases/00481/EMG_data_for_gestures-master.zip'\n",
    "zip_data_path = f\"../{url.split('/')[-1]}\"\n",
    "\n",
    "with requests.get(url, stream=True) as r:\n",
    "    with open(zip_data_path, 'wb') as f:\n",
    "        shutil.copyfileobj(r.raw, f)"
   ]
  },
  {
   "cell_type": "markdown",
   "source": [
    "Extract the dataset into a new folder, and remove the zip file."
   ],
   "metadata": {
    "collapsed": false
   }
  },
  {
   "cell_type": "code",
   "execution_count": 73,
   "outputs": [
    {
     "name": "stdout",
     "output_type": "stream",
     "text": [
      " Volume in drive G is eitan.hemed@gmail.com - Googl...\n",
      " Volume Serial Number is 1983-1116\n",
      "\n",
      " Directory of G:\\My Drive\\OneDrive Transfer\\Postdoc\\Projects\\emg_gestures\n",
      "\n",
      "09/03/2023  02:21 PM    <DIR>          .\n",
      "08/24/2023  11:26 PM    <DIR>          ..\n",
      "09/03/2023  02:18 PM    <DIR>          .idea\n",
      "08/16/2023  11:16 PM               431 pyproject.toml\n",
      "08/17/2023  01:58 AM               438 README.md\n",
      "08/17/2023  12:45 AM               140 env.yml\n",
      "09/03/2023  02:21 PM    <DIR>          notebooks\n",
      "08/17/2023  02:17 AM             3,236 .gitignore\n",
      "08/17/2023  02:20 AM    <DIR>          output\n",
      "09/03/2023  02:01 PM    <DIR>          input-data\n",
      "09/03/2023  02:02 PM    <DIR>          EMG_data_for_gestures-master\n",
      "09/03/2023  02:21 PM        17,699,840 EMG_data_for_gestures-master.zip\n",
      "               5 File(s)     17,704,085 bytes\n",
      "               7 Dir(s)  194,875,621,376 bytes free\n"
     ]
    }
   ],
   "source": [
    "!dir .."
   ],
   "metadata": {
    "collapsed": false
   }
  },
  {
   "cell_type": "code",
   "execution_count": 74,
   "outputs": [],
   "source": [
    "shutil.unpack_archive(zip_data_path, '..')\n",
    "if not os.path.exists('../input-data'):\n",
    "    os.rename(os.path.splitext(zip_data_path)[0], '../input-data')\n",
    "os.remove(zip_data_path)"
   ],
   "metadata": {
    "collapsed": false
   }
  },
  {
   "cell_type": "code",
   "source": [
    "# Print the description of the dataset\n",
    "!cat ../input-data/README.txt"
   ],
   "metadata": {
    "colab": {
     "base_uri": "https://localhost:8080/"
    },
    "id": "w55G69Hrqy3Q",
    "outputId": "1f3678b7-7724-4c73-87f8-887574411900"
   },
   "execution_count": 75,
   "outputs": [
    {
     "name": "stdout",
     "output_type": "stream",
     "text": [
      "EMG Pattern Database\n",
      "\n",
      "For recording patterns, we used a MYO Thalmic bracelet worn on a user’s forearm, and a PC with a Bluetooth receiver. The bracelet is equipped with eight sensors equally spaced around the forearm that simultaneously acquire myographic signals. The signals are sent through a Bluetooth interface to a PC. \n",
      "We present raw EMG data for 36 subjects while they performed series of static hand gestures.The subject performs two series, each of which consists of six (seven) basic gestures. Each gesture was performed for 3 seconds with a pause of 3 seconds between gestures.\n",
      "\n",
      "\n",
      "Description of raw_data _*** file\n",
      "Each file consist of 10 columns:\n",
      "1) Time - time in ms;\n",
      "2-9) Channel - eightEMG channels of MYO Thalmic bracelet;\n",
      "10) Class  –thelabel of gestures: \n",
      "0 - unmarked data,\n",
      "1 - hand at rest, \n",
      "2 - hand clenched in a fist, \n",
      "3 - wrist flexion,\n",
      "4 – wrist extension,\n",
      "5 – radial deviations,\n",
      "6 - ulnar deviations,\n",
      "7 - extended palm (the gesture was not performed by all subjects).\n",
      "\n",
      "\n",
      "\n",
      "\n",
      "Relevant Paper:\n",
      "Lobov S., Krilova N., Kastalskiy I., Kazantsev V., Makarov V.A. Latent Factors Limiting the Performance of sEMG-Interfaces. Sensors. 2018;18(4):1122. doi: 10.3390/s18041122\n",
      "\n",
      "\n",
      "Supported by the Ministry of Education and Science of the Russian Federation in the framework of megagrant allocation in accordance with the decree of the government of the Russian Federation №220, project № 14.Y26.31.0022 \n"
     ]
    }
   ]
  },
  {
   "cell_type": "markdown",
   "source": [
    "## Pool the data into a single dataframe"
   ],
   "metadata": {
    "collapsed": false
   }
  },
  {
   "cell_type": "code",
   "execution_count": 76,
   "outputs": [],
   "source": [
    "raw_data_file_paths = glob.glob('../input-data/*/*.txt')"
   ],
   "metadata": {
    "collapsed": false
   }
  },
  {
   "cell_type": "code",
   "source": [
    "df = pd.concat([prep_single_df(fname) for fname in tqdm.tqdm(raw_data_file_paths)],\n",
    "                ignore_index=True).rename({'class': 'gesture'}, axis=1)"
   ],
   "metadata": {
    "id": "XbiEij2tvOBM"
   },
   "execution_count": 292,
   "outputs": [
    {
     "name": "stderr",
     "output_type": "stream",
     "text": [
      "100%|██████████| 72/72 [00:06<00:00, 10.72it/s]\n"
     ]
    }
   ]
  },
  {
   "cell_type": "markdown",
   "source": [
    "## Wrangling and tidying"
   ],
   "metadata": {
    "collapsed": false
   }
  },
  {
   "cell_type": "markdown",
   "source": [
    "### Partition to trials"
   ],
   "metadata": {
    "collapsed": false
   }
  },
  {
   "cell_type": "markdown",
   "source": [
    "The data is not segmented into epochs or trials, but we know that participants should perform a gesture, have some unmarked inter-trial-interval data (i.e., unmarked), then perform another gesture.\n",
    "\n",
    "Partition each session into trials, where on each trial a different gesture is performed. Finding trial onsets is the matter of finding a difference in the performed gesture.\n",
    "\n",
    "-----------------\n",
    "\n",
    "There is however one missing value for the gesture data. If it is not removed, it will result in very odd data down the line."
   ],
   "metadata": {
    "collapsed": false
   }
  },
  {
   "cell_type": "code",
   "execution_count": 314,
   "outputs": [
    {
     "data": {
      "text/plain": "0"
     },
     "execution_count": 314,
     "metadata": {},
     "output_type": "execute_result"
    }
   ],
   "source": [
    "df['gesture'].isna().sum()"
   ],
   "metadata": {
    "collapsed": false
   }
  },
  {
   "cell_type": "markdown",
   "source": [
    "**For educational purposes, don't drop this value first, and continue up to the analysis of trial duration. Then come back, uncomment the data removal, and re-do the previous cells from data loading, and continue to advance.**"
   ],
   "metadata": {
    "collapsed": false
   }
  },
  {
   "cell_type": "code",
   "execution_count": 308,
   "outputs": [],
   "source": [
    "# df = df.dropna(subset=['gesture'])"
   ],
   "metadata": {
    "collapsed": false
   }
  },
  {
   "cell_type": "code",
   "execution_count": 315,
   "outputs": [],
   "source": [
    "df = df.sort_values(['subject', 'session', 'time'])\n",
    "\n",
    "df['first_frame_on_trial'] = df.groupby(['subject', 'session'])['gesture'].diff().ne(0)\n",
    "\n",
    "\n",
    "df['first_frame_on_trial'] = df['first_frame_on_trial'].replace(\n",
    "    {True: 1, False: np.nan})\n",
    "\n",
    "onsets = df.loc[df['first_frame_on_trial'].notna()]\n",
    "numof_onsets = onsets.shape[0]"
   ],
   "metadata": {
    "collapsed": false
   }
  },
  {
   "cell_type": "markdown",
   "source": [
    "Next, assign trial numbers to each onset, and forward fill the trial numbers (to indicate consecutive frames belonging to the same trial)."
   ],
   "metadata": {
    "collapsed": false
   }
  },
  {
   "cell_type": "code",
   "execution_count": 316,
   "outputs": [],
   "source": [
    "df.loc[onsets.index.values, 'trial_num'] = np.concatenate(\n",
    "    onsets.groupby(['subject', 'session']).apply(lambda s: np.arange(s.shape[0])).values)\n",
    "# Forward fill the trial numbers\n",
    "df['trial_num'] = df['trial_num'].ffill().values.astype(int)\n",
    "# This column is no longer needed\n",
    "df = df.drop('first_frame_on_trial', axis=1)"
   ],
   "metadata": {
    "collapsed": false
   }
  },
  {
   "cell_type": "markdown",
   "source": [
    "Mark the sample index within each trial, to be used later for aggregating the data into 200ms bins"
   ],
   "metadata": {
    "collapsed": false
   }
  },
  {
   "cell_type": "code",
   "execution_count": 317,
   "outputs": [],
   "source": [
    "df['time_within_trial'] = df.groupby(['subject', 'session', 'trial_num'])['time'].transform(\n",
    "    lambda s: s - s.min())"
   ],
   "metadata": {
    "collapsed": false
   }
  },
  {
   "cell_type": "markdown",
   "source": [
    "What is the distribution of the duration of trials?"
   ],
   "metadata": {
    "collapsed": false
   }
  },
  {
   "cell_type": "code",
   "execution_count": 318,
   "outputs": [
    {
     "data": {
      "text/plain": "array([[<Axes: title={'center': 'mean'}>,\n        <Axes: title={'center': 'max'}>]], dtype=object)"
     },
     "execution_count": 318,
     "metadata": {},
     "output_type": "execute_result"
    },
    {
     "data": {
      "text/plain": "<Figure size 640x480 with 2 Axes>",
      "image/png": "[encoded data removed]"
     },
     "metadata": {},
     "output_type": "display_data"
    }
   ],
   "source": [
    "df.groupby(['subject', 'session', 'trial_num'])['time_within_trial'].describe()[['mean', 'max']].hist()"
   ],
   "metadata": {
    "collapsed": false
   }
  },
  {
   "cell_type": "markdown",
   "source": [
    "It seems that trials last up to 6000 milliseconds or so.\n",
    "\n",
    "-----------------\n",
    "\n",
    "Compare this plot when the missing value is removed, or when it is not removed."
   ],
   "metadata": {
    "collapsed": false
   }
  },
  {
   "cell_type": "code",
   "execution_count": 319,
   "outputs": [
    {
     "data": {
      "text/plain": "Series([], Name: time_within_trial, dtype: int64)"
     },
     "execution_count": 319,
     "metadata": {},
     "output_type": "execute_result"
    }
   ],
   "source": [
    "# df.loc[df['time_within_trial'] > 6000].groupby(['subject', 'session', 'gesture', 'trial_num'])['time_within_trial'].max()"
   ],
   "metadata": {
    "collapsed": false
   }
  },
  {
   "cell_type": "markdown",
   "source": [
    "We can see now that we have a lot of `unmarked-data` epochs. They usually have longer duration than the marked epochs."
   ],
   "metadata": {
    "collapsed": false
   }
  },
  {
   "cell_type": "code",
   "execution_count": 325,
   "outputs": [
    {
     "data": {
      "text/plain": "<seaborn.axisgrid.FacetGrid at 0x22ca1d75c00>"
     },
     "execution_count": 325,
     "metadata": {},
     "output_type": "execute_result"
    },
    {
     "data": {
      "text/plain": "<Figure size 1200x600 with 8 Axes>",
      "image/png": "[encoded data removed]"
     },
     "metadata": {},
     "output_type": "display_data"
    }
   ],
   "source": [
    "sns.FacetGrid(col='gesture', col_wrap=4, data=df.groupby(['subject', 'session', 'trial_num', 'gesture']\n",
    "                                                         )['time_within_trial'].max().reset_index()).map(\n",
    "    sns.histplot, 'time_within_trial', bins=30)"
   ],
   "metadata": {
    "collapsed": false
   }
  },
  {
   "cell_type": "markdown",
   "source": [
    "#### What is the sampling frequency of data?"
   ],
   "metadata": {
    "collapsed": false
   }
  },
  {
   "cell_type": "markdown",
   "source": [
    "To get the sampling frqeuency, we can divide the duration of each trial by the number of samples in it."
   ],
   "metadata": {
    "collapsed": false
   }
  },
  {
   "cell_type": "code",
   "execution_count": 326,
   "outputs": [],
   "source": [
    "trial_duration_data = df.groupby(['subject', 'session', 'trial_num'])[\n",
    "    'time_within_trial'].agg(['max', 'count']).rename({'count': 'numof_samples'}, axis=1).reset_index()"
   ],
   "metadata": {
    "collapsed": false
   }
  },
  {
   "cell_type": "code",
   "execution_count": 327,
   "outputs": [
    {
     "data": {
      "text/plain": "  subject session  trial_num   max  numof_samples  sampling_frequency\n0      01       1          0  2396           2287                1.05\n1      01       1          1  2180           2115                1.03\n2      01       1          2  2079           2022                1.03\n3      01       1          3  1846           1794                1.03\n4      01       1          4  4456           4316                1.03",
      "text/html": "<div>\n<style scoped>\n    .dataframe tbody tr th:only-of-type {\n        vertical-align: middle;\n    }\n\n    .dataframe tbody tr th {\n        vertical-align: top;\n    }\n\n    .dataframe thead th {\n        text-align: right;\n    }\n</style>\n<table border=\"1\" class=\"dataframe\">\n  <thead>\n    <tr style=\"text-align: right;\">\n      <th></th>\n      <th>subject</th>\n      <th>session</th>\n      <th>trial_num</th>\n      <th>max</th>\n      <th>numof_samples</th>\n      <th>sampling_frequency</th>\n    </tr>\n  </thead>\n  <tbody>\n    <tr>\n      <th>0</th>\n      <td>01</td>\n      <td>1</td>\n      <td>0</td>\n      <td>2396</td>\n      <td>2287</td>\n      <td>1.05</td>\n    </tr>\n    <tr>\n      <th>1</th>\n      <td>01</td>\n      <td>1</td>\n      <td>1</td>\n      <td>2180</td>\n      <td>2115</td>\n      <td>1.03</td>\n    </tr>\n    <tr>\n      <th>2</th>\n      <td>01</td>\n      <td>1</td>\n      <td>2</td>\n      <td>2079</td>\n      <td>2022</td>\n      <td>1.03</td>\n    </tr>\n    <tr>\n      <th>3</th>\n      <td>01</td>\n      <td>1</td>\n      <td>3</td>\n      <td>1846</td>\n      <td>1794</td>\n      <td>1.03</td>\n    </tr>\n    <tr>\n      <th>4</th>\n      <td>01</td>\n      <td>1</td>\n      <td>4</td>\n      <td>4456</td>\n      <td>4316</td>\n      <td>1.03</td>\n    </tr>\n  </tbody>\n</table>\n</div>"
     },
     "execution_count": 327,
     "metadata": {},
     "output_type": "execute_result"
    }
   ],
   "source": [
    "trial_duration_data['sampling_frequency'] = (trial_duration_data['max'] /\n",
    "    trial_duration_data['numof_samples']).round(2)\n",
    "trial_duration_data.head()"
   ],
   "metadata": {
    "collapsed": false
   }
  },
  {
   "cell_type": "code",
   "execution_count": 328,
   "outputs": [
    {
     "data": {
      "text/plain": "<seaborn.axisgrid.FacetGrid at 0x22cb7ef1ed0>"
     },
     "execution_count": 328,
     "metadata": {},
     "output_type": "execute_result"
    },
    {
     "data": {
      "text/plain": "<Figure size 900x300 with 2 Axes>",
      "image/png": "[encoded data removed]"
     },
     "metadata": {},
     "output_type": "display_data"
    }
   ],
   "source": [
    "g = sns.FacetGrid(trial_duration_data, col='session', col_wrap=3)\n",
    "g.map(plt.hist, 'sampling_frequency')"
   ],
   "metadata": {
    "collapsed": false
   }
  },
  {
   "cell_type": "markdown",
   "source": [
    "It seems that the sampling frequency is not constant, but most values are around 1MS (i.e., 1000Hz - as expected from the paper)."
   ],
   "metadata": {
    "collapsed": false
   }
  },
  {
   "cell_type": "markdown",
   "source": [
    "### General tidying"
   ],
   "metadata": {
    "collapsed": false
   }
  },
  {
   "cell_type": "markdown",
   "source": [
    "Subject and session are represented as strings, but they should be integers"
   ],
   "metadata": {
    "collapsed": false
   }
  },
  {
   "cell_type": "code",
   "execution_count": 331,
   "outputs": [
    {
     "data": {
      "text/plain": "subject                object\nsession                object\ntrial_num               int32\ntime_within_trial       int64\nsampling_frequency    float64\ndtype: object"
     },
     "execution_count": 331,
     "metadata": {},
     "output_type": "execute_result"
    }
   ],
   "source": [
    "df.dtypes.tail()"
   ],
   "metadata": {
    "collapsed": false
   }
  },
  {
   "cell_type": "code",
   "execution_count": 332,
   "outputs": [],
   "source": [
    "df[['subject', 'session', 'gesture']] = df[['subject', 'session', 'gesture']].astype(int)"
   ],
   "metadata": {
    "collapsed": false
   }
  },
  {
   "cell_type": "markdown",
   "source": [
    "#### Odd and missing gesture information"
   ],
   "metadata": {
    "collapsed": false
   }
  },
  {
   "cell_type": "markdown",
   "source": [
    "Some subjects have more than 7 different gestures (extended palm gesture was not recorded for most)."
   ],
   "metadata": {
    "collapsed": false
   }
  },
  {
   "cell_type": "code",
   "execution_count": 333,
   "outputs": [
    {
     "data": {
      "text/plain": "gesture\n7    34\n8     2\nName: count, dtype: int64"
     },
     "execution_count": 333,
     "metadata": {},
     "output_type": "execute_result"
    }
   ],
   "source": [
    "df.groupby('subject')['gesture'].nunique().value_counts()"
   ],
   "metadata": {
    "collapsed": false
   }
  },
  {
   "cell_type": "markdown",
   "source": [
    "We can either remove the subjects, or remove the periods with the extra gesture, either way, here are their subject and session IDs."
   ],
   "metadata": {
    "collapsed": false
   }
  },
  {
   "cell_type": "code",
   "execution_count": 334,
   "outputs": [
    {
     "data": {
      "text/plain": "    subject  session  numof_classes\n20       11        1              8\n21       11        2              8\n58       30        1              8\n59       30        2              8",
      "text/html": "<div>\n<style scoped>\n    .dataframe tbody tr th:only-of-type {\n        vertical-align: middle;\n    }\n\n    .dataframe tbody tr th {\n        vertical-align: top;\n    }\n\n    .dataframe thead th {\n        text-align: right;\n    }\n</style>\n<table border=\"1\" class=\"dataframe\">\n  <thead>\n    <tr style=\"text-align: right;\">\n      <th></th>\n      <th>subject</th>\n      <th>session</th>\n      <th>numof_classes</th>\n    </tr>\n  </thead>\n  <tbody>\n    <tr>\n      <th>20</th>\n      <td>11</td>\n      <td>1</td>\n      <td>8</td>\n    </tr>\n    <tr>\n      <th>21</th>\n      <td>11</td>\n      <td>2</td>\n      <td>8</td>\n    </tr>\n    <tr>\n      <th>58</th>\n      <td>30</td>\n      <td>1</td>\n      <td>8</td>\n    </tr>\n    <tr>\n      <th>59</th>\n      <td>30</td>\n      <td>2</td>\n      <td>8</td>\n    </tr>\n  </tbody>\n</table>\n</div>"
     },
     "execution_count": 334,
     "metadata": {},
     "output_type": "execute_result"
    }
   ],
   "source": [
    "more_than_seven_gestures = df.groupby(['subject', 'session'])['gesture'].nunique().reset_index(\n",
    "    ).rename({'gesture': 'numof_classes'}, axis=1).query(\n",
    "    'numof_classes > 7')\n",
    "\n",
    "more_than_seven_gestures"
   ],
   "metadata": {
    "collapsed": false
   }
  },
  {
   "cell_type": "markdown",
   "source": [
    "Here we select to remove these periods from the data."
   ],
   "metadata": {
    "collapsed": false
   }
  },
  {
   "cell_type": "code",
   "execution_count": 335,
   "outputs": [],
   "source": [
    "df = df.loc[df['gesture'] != 7]"
   ],
   "metadata": {
    "collapsed": false
   }
  },
  {
   "cell_type": "markdown",
   "source": [
    "We can visualize the allocation of gestures throughout sessions."
   ],
   "metadata": {
    "collapsed": false
   }
  },
  {
   "cell_type": "code",
   "execution_count": 348,
   "outputs": [
    {
     "data": {
      "text/plain": "<seaborn.axisgrid.FacetGrid at 0x22c79848b50>"
     },
     "execution_count": 348,
     "metadata": {},
     "output_type": "execute_result"
    },
    {
     "data": {
      "text/plain": "<Figure size 600x300 with 2 Axes>",
      "image/png": "[encoded data removed]"
     },
     "metadata": {},
     "output_type": "display_data"
    }
   ],
   "source": [
    "g = sns.FacetGrid(df.groupby(['subject', 'session', 'trial_num', 'gesture'])[\n",
    "                  'time_within_trial'].first().reset_index(), col='session', col_wrap=2, hue='subject')\n",
    "g.map(sns.lineplot, 'trial_num', 'gesture')"
   ],
   "metadata": {
    "collapsed": false
   }
  },
  {
   "cell_type": "markdown",
   "source": [
    "We can see that almost all subjects performed the gestures in the same order - 0-1-0-2 and so on, and then repeated all gestures again (within that session). This is not ideal of course, as a confounding factor - of the order of the gestures is introduced. This might for example interfere with fatigure when performing gestures number 6 and 7."
   ],
   "metadata": {
    "collapsed": false
   }
  },
  {
   "cell_type": "markdown",
   "source": [
    "One last thing we can do when tidying the dataset it to further segment each trial into periods of 200MS. This is the period used in the paper to calculate the features."
   ],
   "metadata": {
    "collapsed": false
   }
  },
  {
   "cell_type": "code",
   "execution_count": 360,
   "outputs": [],
   "source": [
    "df['epoch'] = (df['time_within_trial'] // 200)"
   ],
   "metadata": {
    "collapsed": false
   }
  },
  {
   "cell_type": "code",
   "execution_count": 363,
   "outputs": [
    {
     "data": {
      "text/plain": "      time  time_within_trial  epoch\n0        1                  0      0\n1      201                200      1\n2      401                400      2\n3      601                600      3\n4      801                800      4\n..     ...                ...    ...\n334  64718                800      4\n335  64918               1000      5\n336  65118               1200      6\n337  65318               1400      7\n338  65518               1600      8\n\n[339 rows x 3 columns]",
      "text/html": "<div>\n<style scoped>\n    .dataframe tbody tr th:only-of-type {\n        vertical-align: middle;\n    }\n\n    .dataframe tbody tr th {\n        vertical-align: top;\n    }\n\n    .dataframe thead th {\n        text-align: right;\n    }\n</style>\n<table border=\"1\" class=\"dataframe\">\n  <thead>\n    <tr style=\"text-align: right;\">\n      <th></th>\n      <th>time</th>\n      <th>time_within_trial</th>\n      <th>epoch</th>\n    </tr>\n  </thead>\n  <tbody>\n    <tr>\n      <th>0</th>\n      <td>1</td>\n      <td>0</td>\n      <td>0</td>\n    </tr>\n    <tr>\n      <th>1</th>\n      <td>201</td>\n      <td>200</td>\n      <td>1</td>\n    </tr>\n    <tr>\n      <th>2</th>\n      <td>401</td>\n      <td>400</td>\n      <td>2</td>\n    </tr>\n    <tr>\n      <th>3</th>\n      <td>601</td>\n      <td>600</td>\n      <td>3</td>\n    </tr>\n    <tr>\n      <th>4</th>\n      <td>801</td>\n      <td>800</td>\n      <td>4</td>\n    </tr>\n    <tr>\n      <th>...</th>\n      <td>...</td>\n      <td>...</td>\n      <td>...</td>\n    </tr>\n    <tr>\n      <th>334</th>\n      <td>64718</td>\n      <td>800</td>\n      <td>4</td>\n    </tr>\n    <tr>\n      <th>335</th>\n      <td>64918</td>\n      <td>1000</td>\n      <td>5</td>\n    </tr>\n    <tr>\n      <th>336</th>\n      <td>65118</td>\n      <td>1200</td>\n      <td>6</td>\n    </tr>\n    <tr>\n      <th>337</th>\n      <td>65318</td>\n      <td>1400</td>\n      <td>7</td>\n    </tr>\n    <tr>\n      <th>338</th>\n      <td>65518</td>\n      <td>1600</td>\n      <td>8</td>\n    </tr>\n  </tbody>\n</table>\n<p>339 rows × 3 columns</p>\n</div>"
     },
     "execution_count": 363,
     "metadata": {},
     "output_type": "execute_result"
    }
   ],
   "source": [
    "df.loc[(df['subject'] == 1) & (df['session'] == 1)].groupby(['trial_num', 'epoch']).first().reset_index()[['time', 'time_within_trial', 'epoch']]"
   ],
   "metadata": {
    "collapsed": false
   }
  },
  {
   "cell_type": "markdown",
   "source": [
    "## EMG data"
   ],
   "metadata": {
    "collapsed": false
   }
  },
  {
   "cell_type": "markdown",
   "source": [
    "We can finally look at the EMG data. It is specified in microvolts (uV), which is 1-millionth of a volt.\n",
    "\n",
    "We can change the units to millivolts (mV), which is 1-thousandth of a volt, for easier reading."
   ],
   "metadata": {
    "collapsed": false
   }
  },
  {
   "cell_type": "code",
   "execution_count": null,
   "outputs": [],
   "source": [
    "df.filter(regex='channel\\d$') = df.filter(regex='channel\\d$') / 1000"
   ],
   "metadata": {
    "collapsed": false
   }
  },
  {
   "cell_type": "code",
   "execution_count": 367,
   "outputs": [
    {
     "data": {
      "text/plain": "           channel1      channel2      channel3      channel4      channel5   \ncount  4.200995e+06  4.200995e+06  4.200995e+06  4.200995e+06  4.200995e+06  \\\nmean  -7.932773e-06 -9.411849e-06 -9.543042e-06 -9.630714e-06 -1.603890e-05   \nstd    1.626363e-04  1.196544e-04  1.245621e-04  2.263657e-04  2.723243e-04   \nmin   -1.280000e-03 -1.280000e-03 -1.280000e-03 -1.280000e-03 -1.280000e-03   \n25%   -3.000000e-05 -4.000000e-05 -4.000000e-05 -6.000000e-05 -8.000000e-05   \n50%   -1.000000e-05 -1.000000e-05 -1.000000e-05 -1.000000e-05 -1.000000e-05   \n75%    2.000000e-05  2.000000e-05  3.000000e-05  4.000000e-05  5.000000e-05   \nmax    1.270000e-03  1.270000e-03  1.270000e-03  1.270000e-03  1.270000e-03   \n\n           channel6      channel7      channel8  \ncount  4.200995e+06  4.200995e+06  4.200995e+06  \nmean  -1.085445e-05 -9.372503e-06 -9.653930e-06  \nstd    2.151316e-04  1.530369e-04  1.717218e-04  \nmin   -1.280000e-03 -1.280000e-03 -1.280000e-03  \n25%   -6.000000e-05 -4.000000e-05 -3.000000e-05  \n50%   -1.000000e-05 -1.000000e-05 -1.000000e-05  \n75%    3.000000e-05  2.000000e-05  1.000000e-05  \nmax    1.270000e-03  1.270000e-03  1.270000e-03  ",
      "text/html": "<div>\n<style scoped>\n    .dataframe tbody tr th:only-of-type {\n        vertical-align: middle;\n    }\n\n    .dataframe tbody tr th {\n        vertical-align: top;\n    }\n\n    .dataframe thead th {\n        text-align: right;\n    }\n</style>\n<table border=\"1\" class=\"dataframe\">\n  <thead>\n    <tr style=\"text-align: right;\">\n      <th></th>\n      <th>channel1</th>\n      <th>channel2</th>\n      <th>channel3</th>\n      <th>channel4</th>\n      <th>channel5</th>\n      <th>channel6</th>\n      <th>channel7</th>\n      <th>channel8</th>\n    </tr>\n  </thead>\n  <tbody>\n    <tr>\n      <th>count</th>\n      <td>4.200995e+06</td>\n      <td>4.200995e+06</td>\n      <td>4.200995e+06</td>\n      <td>4.200995e+06</td>\n      <td>4.200995e+06</td>\n      <td>4.200995e+06</td>\n      <td>4.200995e+06</td>\n      <td>4.200995e+06</td>\n    </tr>\n    <tr>\n      <th>mean</th>\n      <td>-7.932773e-06</td>\n      <td>-9.411849e-06</td>\n      <td>-9.543042e-06</td>\n      <td>-9.630714e-06</td>\n      <td>-1.603890e-05</td>\n      <td>-1.085445e-05</td>\n      <td>-9.372503e-06</td>\n      <td>-9.653930e-06</td>\n    </tr>\n    <tr>\n      <th>std</th>\n      <td>1.626363e-04</td>\n      <td>1.196544e-04</td>\n      <td>1.245621e-04</td>\n      <td>2.263657e-04</td>\n      <td>2.723243e-04</td>\n      <td>2.151316e-04</td>\n      <td>1.530369e-04</td>\n      <td>1.717218e-04</td>\n    </tr>\n    <tr>\n      <th>min</th>\n      <td>-1.280000e-03</td>\n      <td>-1.280000e-03</td>\n      <td>-1.280000e-03</td>\n      <td>-1.280000e-03</td>\n      <td>-1.280000e-03</td>\n      <td>-1.280000e-03</td>\n      <td>-1.280000e-03</td>\n      <td>-1.280000e-03</td>\n    </tr>\n    <tr>\n      <th>25%</th>\n      <td>-3.000000e-05</td>\n      <td>-4.000000e-05</td>\n      <td>-4.000000e-05</td>\n      <td>-6.000000e-05</td>\n      <td>-8.000000e-05</td>\n      <td>-6.000000e-05</td>\n      <td>-4.000000e-05</td>\n      <td>-3.000000e-05</td>\n    </tr>\n    <tr>\n      <th>50%</th>\n      <td>-1.000000e-05</td>\n      <td>-1.000000e-05</td>\n      <td>-1.000000e-05</td>\n      <td>-1.000000e-05</td>\n      <td>-1.000000e-05</td>\n      <td>-1.000000e-05</td>\n      <td>-1.000000e-05</td>\n      <td>-1.000000e-05</td>\n    </tr>\n    <tr>\n      <th>75%</th>\n      <td>2.000000e-05</td>\n      <td>2.000000e-05</td>\n      <td>3.000000e-05</td>\n      <td>4.000000e-05</td>\n      <td>5.000000e-05</td>\n      <td>3.000000e-05</td>\n      <td>2.000000e-05</td>\n      <td>1.000000e-05</td>\n    </tr>\n    <tr>\n      <th>max</th>\n      <td>1.270000e-03</td>\n      <td>1.270000e-03</td>\n      <td>1.270000e-03</td>\n      <td>1.270000e-03</td>\n      <td>1.270000e-03</td>\n      <td>1.270000e-03</td>\n      <td>1.270000e-03</td>\n      <td>1.270000e-03</td>\n    </tr>\n  </tbody>\n</table>\n</div>"
     },
     "execution_count": 367,
     "metadata": {},
     "output_type": "execute_result"
    }
   ],
   "source": [
    "df.filter(regex='channel\\d$').describe()"
   ],
   "metadata": {
    "collapsed": false
   }
  },
  {
   "cell_type": "markdown",
   "source": [
    "## Feature engineering"
   ],
   "metadata": {
    "collapsed": false
   }
  },
  {
   "cell_type": "markdown",
   "source": [
    "Common EMG features are root-mean-square and mean-absolute-value, calculated on each value. Here they are calculated per trial, we can also calculate them per period (200MS) within each trial."
   ],
   "metadata": {
    "collapsed": false
   }
  },
  {
   "cell_type": "code",
   "execution_count": 364,
   "outputs": [],
   "source": [
    "# Prepare the arguments for the aggregation - a dictionary of the new column names, and the functions to apply\n",
    "agg_args = {k: [root_mean_square, mean_abs_val] for k in df.filter(regex='channel\\d$').columns}\n",
    "\n",
    "aggregated_df = df.groupby(['subject', 'session', 'trial_num', 'epoch'])[\n",
    "    list(agg_args.keys())].agg(\n",
    "    agg_args)"
   ],
   "metadata": {
    "collapsed": false
   }
  },
  {
   "cell_type": "code",
   "execution_count": 365,
   "outputs": [
    {
     "data": {
      "text/plain": "                                        channel1                \n                                root_mean_square mean_abs_val   \nsubject session trial_num epoch                                 \n1       1       0         0             0.000015     0.000012  \\\n                          1             0.000014     0.000009   \n                          2             0.000015     0.000014   \n                          3             0.000019     0.000015   \n                          4             0.000020     0.000015   \n\n                                        channel2                \n                                root_mean_square mean_abs_val   \nsubject session trial_num epoch                                 \n1       1       0         0             0.000034     0.000023  \\\n                          1             0.000024     0.000017   \n                          2             0.000025     0.000015   \n                          3             0.000028     0.000022   \n                          4             0.000023     0.000018   \n\n                                        channel3                \n                                root_mean_square mean_abs_val   \nsubject session trial_num epoch                                 \n1       1       0         0             0.000040     0.000032  \\\n                          1             0.000023     0.000020   \n                          2             0.000029     0.000026   \n                          3             0.000021     0.000019   \n                          4             0.000023     0.000014   \n\n                                        channel4                \n                                root_mean_square mean_abs_val   \nsubject session trial_num epoch                                 \n1       1       0         0             0.000042     0.000033  \\\n                          1             0.000022     0.000017   \n                          2             0.000021     0.000019   \n                          3             0.000019     0.000015   \n                          4             0.000024     0.000019   \n\n                                        channel5                \n                                root_mean_square mean_abs_val   \nsubject session trial_num epoch                                 \n1       1       0         0             0.000017     0.000015  \\\n                          1             0.000016     0.000011   \n                          2             0.000015     0.000012   \n                          3             0.000016     0.000010   \n                          4             0.000016     0.000012   \n\n                                        channel6                \n                                root_mean_square mean_abs_val   \nsubject session trial_num epoch                                 \n1       1       0         0             0.000015     0.000013  \\\n                          1             0.000014     0.000012   \n                          2             0.000012     0.000009   \n                          3             0.000017     0.000014   \n                          4             0.000013     0.000010   \n\n                                        channel7                \n                                root_mean_square mean_abs_val   \nsubject session trial_num epoch                                 \n1       1       0         0             0.000017     0.000013  \\\n                          1             0.000012     0.000009   \n                          2             0.000014     0.000012   \n                          3             0.000015     0.000011   \n                          4             0.000015     0.000012   \n\n                                        channel8               \n                                root_mean_square mean_abs_val  \nsubject session trial_num epoch                                \n1       1       0         0             0.000014     0.000010  \n                          1             0.000012     0.000009  \n                          2             0.000015     0.000012  \n                          3             0.000013     0.000011  \n                          4             0.000016     0.000012  ",
      "text/html": "<div>\n<style scoped>\n    .dataframe tbody tr th:only-of-type {\n        vertical-align: middle;\n    }\n\n    .dataframe tbody tr th {\n        vertical-align: top;\n    }\n\n    .dataframe thead tr th {\n        text-align: left;\n    }\n\n    .dataframe thead tr:last-of-type th {\n        text-align: right;\n    }\n</style>\n<table border=\"1\" class=\"dataframe\">\n  <thead>\n    <tr>\n      <th></th>\n      <th></th>\n      <th></th>\n      <th></th>\n      <th colspan=\"2\" halign=\"left\">channel1</th>\n      <th colspan=\"2\" halign=\"left\">channel2</th>\n      <th colspan=\"2\" halign=\"left\">channel3</th>\n      <th colspan=\"2\" halign=\"left\">channel4</th>\n      <th colspan=\"2\" halign=\"left\">channel5</th>\n      <th colspan=\"2\" halign=\"left\">channel6</th>\n      <th colspan=\"2\" halign=\"left\">channel7</th>\n      <th colspan=\"2\" halign=\"left\">channel8</th>\n    </tr>\n    <tr>\n      <th></th>\n      <th></th>\n      <th></th>\n      <th></th>\n      <th>root_mean_square</th>\n      <th>mean_abs_val</th>\n      <th>root_mean_square</th>\n      <th>mean_abs_val</th>\n      <th>root_mean_square</th>\n      <th>mean_abs_val</th>\n      <th>root_mean_square</th>\n      <th>mean_abs_val</th>\n      <th>root_mean_square</th>\n      <th>mean_abs_val</th>\n      <th>root_mean_square</th>\n      <th>mean_abs_val</th>\n      <th>root_mean_square</th>\n      <th>mean_abs_val</th>\n      <th>root_mean_square</th>\n      <th>mean_abs_val</th>\n    </tr>\n    <tr>\n      <th>subject</th>\n      <th>session</th>\n      <th>trial_num</th>\n      <th>epoch</th>\n      <th></th>\n      <th></th>\n      <th></th>\n      <th></th>\n      <th></th>\n      <th></th>\n      <th></th>\n      <th></th>\n      <th></th>\n      <th></th>\n      <th></th>\n      <th></th>\n      <th></th>\n      <th></th>\n      <th></th>\n      <th></th>\n    </tr>\n  </thead>\n  <tbody>\n    <tr>\n      <th rowspan=\"5\" valign=\"top\">1</th>\n      <th rowspan=\"5\" valign=\"top\">1</th>\n      <th rowspan=\"5\" valign=\"top\">0</th>\n      <th>0</th>\n      <td>0.000015</td>\n      <td>0.000012</td>\n      <td>0.000034</td>\n      <td>0.000023</td>\n      <td>0.000040</td>\n      <td>0.000032</td>\n      <td>0.000042</td>\n      <td>0.000033</td>\n      <td>0.000017</td>\n      <td>0.000015</td>\n      <td>0.000015</td>\n      <td>0.000013</td>\n      <td>0.000017</td>\n      <td>0.000013</td>\n      <td>0.000014</td>\n      <td>0.000010</td>\n    </tr>\n    <tr>\n      <th>1</th>\n      <td>0.000014</td>\n      <td>0.000009</td>\n      <td>0.000024</td>\n      <td>0.000017</td>\n      <td>0.000023</td>\n      <td>0.000020</td>\n      <td>0.000022</td>\n      <td>0.000017</td>\n      <td>0.000016</td>\n      <td>0.000011</td>\n      <td>0.000014</td>\n      <td>0.000012</td>\n      <td>0.000012</td>\n      <td>0.000009</td>\n      <td>0.000012</td>\n      <td>0.000009</td>\n    </tr>\n    <tr>\n      <th>2</th>\n      <td>0.000015</td>\n      <td>0.000014</td>\n      <td>0.000025</td>\n      <td>0.000015</td>\n      <td>0.000029</td>\n      <td>0.000026</td>\n      <td>0.000021</td>\n      <td>0.000019</td>\n      <td>0.000015</td>\n      <td>0.000012</td>\n      <td>0.000012</td>\n      <td>0.000009</td>\n      <td>0.000014</td>\n      <td>0.000012</td>\n      <td>0.000015</td>\n      <td>0.000012</td>\n    </tr>\n    <tr>\n      <th>3</th>\n      <td>0.000019</td>\n      <td>0.000015</td>\n      <td>0.000028</td>\n      <td>0.000022</td>\n      <td>0.000021</td>\n      <td>0.000019</td>\n      <td>0.000019</td>\n      <td>0.000015</td>\n      <td>0.000016</td>\n      <td>0.000010</td>\n      <td>0.000017</td>\n      <td>0.000014</td>\n      <td>0.000015</td>\n      <td>0.000011</td>\n      <td>0.000013</td>\n      <td>0.000011</td>\n    </tr>\n    <tr>\n      <th>4</th>\n      <td>0.000020</td>\n      <td>0.000015</td>\n      <td>0.000023</td>\n      <td>0.000018</td>\n      <td>0.000023</td>\n      <td>0.000014</td>\n      <td>0.000024</td>\n      <td>0.000019</td>\n      <td>0.000016</td>\n      <td>0.000012</td>\n      <td>0.000013</td>\n      <td>0.000010</td>\n      <td>0.000015</td>\n      <td>0.000012</td>\n      <td>0.000016</td>\n      <td>0.000012</td>\n    </tr>\n  </tbody>\n</table>\n</div>"
     },
     "execution_count": 365,
     "metadata": {},
     "output_type": "execute_result"
    }
   ],
   "source": [
    "aggregated_df.head()"
   ],
   "metadata": {
    "collapsed": false
   }
  },
  {
   "cell_type": "markdown",
   "source": [
    "Accessing the Multindex"
   ],
   "metadata": {
    "collapsed": false
   }
  },
  {
   "cell_type": "code",
   "execution_count": 346,
   "outputs": [
    {
     "data": {
      "text/plain": "root_mean_square    0.000015\nmean_abs_val        0.000011\nName: (1, 1, 0), dtype: float64"
     },
     "execution_count": 346,
     "metadata": {},
     "output_type": "execute_result"
    }
   ],
   "source": [
    "aggregated_df.head().loc[(1, 1, 0), 'channel1']"
   ],
   "metadata": {
    "collapsed": false
   }
  },
  {
   "cell_type": "markdown",
   "source": [
    "## Save the data\n",
    "\n",
    "To be used on further lessons - plotting, modelling, etc.\n",
    "\n",
    "The file is quite large, so we will save it as a zipped dataframe (can still be read with `pd.read_csv`)."
   ],
   "metadata": {
    "collapsed": false
   }
  },
  {
   "cell_type": "code",
   "execution_count": null,
   "outputs": [],
   "source": [
    "df.to_csv('../output/output-data/emg-data-clean.zip ', index=False)"
   ],
   "metadata": {
    "collapsed": false
   }
  }
 ]
}
