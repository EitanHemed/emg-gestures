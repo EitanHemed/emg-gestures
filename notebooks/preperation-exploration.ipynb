{
 "nbformat": 4,
 "nbformat_minor": 0,
 "metadata": {
  "colab": {
   "provenance": [],
   "toc_visible": true
  },
  "kernelspec": {
   "name": "python3",
   "display_name": "Python 3"
  },
  "language_info": {
   "name": "python"
  },
  "gpuClass": "standard"
 },
 "cells": [
  {
   "cell_type": "markdown",
   "source": [
    "# Recognizing hand gestures from EMG signal\n",
    "\n",
    "This notebook includes the pooling and tidying of the data from the paper **Latent Factors Limiting the Performance of sEMG-Interfaces** [Lobov et al., (2018)](https://www.mdpi.com/1424-8220/18/4/1122).\n"
   ],
   "metadata": {
    "collapsed": false
   }
  },
  {
   "cell_type": "markdown",
   "source": [
    "## Imports"
   ],
   "metadata": {
    "id": "ICBAuTTLWrTL"
   }
  },
  {
   "cell_type": "code",
   "source": [
    "import re\n",
    "import os\n",
    "import glob\n",
    "import requests\n",
    "import shutil\n",
    "\n",
    "import numpy as np\n",
    "import pandas as pd\n",
    "\n",
    "np.random.seed(999)"
   ],
   "metadata": {
    "id": "TELvdNuKpdip",
    "colab": {
     "base_uri": "https://localhost:8080/"
    },
    "outputId": "e777abfc-6b50-4084-a05a-6ab0dcf8af13"
   },
   "execution_count": 1,
   "outputs": []
  },
  {
   "cell_type": "markdown",
   "source": [
    "### Defining helper functions\n"
   ],
   "metadata": {
    "collapsed": false
   }
  },
  {
   "cell_type": "code",
   "source": [
    "def root_mean_square(s: np.array) -> np.array:\n",
    "    return np.sqrt(np.mean(np.power(s, 2)))\n",
    "\n",
    "def mean_abs_val(s: np.array) -> np.array:\n",
    "    return np.mean(np.abs(s))\n",
    "\n",
    "def prep_single_df(fname: str) -> pd.DataFrame:\n",
    "    _df = pd.read_csv(fname, sep='\\t')\n",
    "    data_info = re.findall(r'\\d+', fname)\n",
    "    subject, session = data_info[:2]\n",
    "    timestamp = data_info[2:]\n",
    "    _df = _df.assign(subject=subject, session=session)\n",
    "    return _df"
   ],
   "metadata": {
    "id": "VycEs8MEi9TL"
   },
   "execution_count": 13,
   "outputs": []
  },
  {
   "cell_type": "markdown",
   "source": [
    "## Loading the dataset"
   ],
   "metadata": {
    "id": "KbCptF-gWxYF"
   }
  },
  {
   "cell_type": "markdown",
   "source": [
    "Download the dataset (a zip folder) into the current directory"
   ],
   "metadata": {
    "collapsed": false
   }
  },
  {
   "cell_type": "code",
   "execution_count": 7,
   "metadata": {
    "colab": {
     "base_uri": "https://localhost:8080/"
    },
    "id": "lOeU8RkKpXnr",
    "outputId": "43959811-8ab5-4273-e801-731319d3402c"
   },
   "outputs": [],
   "source": [
    "url = 'https://archive.ics.uci.edu/ml/machine-learning-databases/00481/EMG_data_for_gestures-master.zip'\n",
    "zip_data_path = f\"../{url.split('/')[-1]}\"\n",
    "\n",
    "with requests.get(url, stream=True) as r:\n",
    "    with open(zip_data_path, 'wb') as f:\n",
    "        shutil.copyfileobj(r.raw, f)"
   ]
  },
  {
   "cell_type": "markdown",
   "source": [
    "Extract the dataset into a new folder, and remove the zip file."
   ],
   "metadata": {
    "collapsed": false
   }
  },
  {
   "cell_type": "code",
   "execution_count": 8,
   "outputs": [
    {
     "name": "stdout",
     "output_type": "stream",
     "text": [
      " Volume in drive G is eitan.hemed@gmail.com - Googl...\n",
      " Volume Serial Number is 1983-1116\n",
      "\n",
      " Directory of G:\\My Drive\\OneDrive Transfer\\Postdoc\\Projects\\emg_gestures\n",
      "\n",
      "08/17/2023  02:05 AM    <DIR>          .\n",
      "08/17/2023  02:02 AM    <DIR>          ..\n",
      "08/17/2023  02:03 AM    <DIR>          .idea\n",
      "08/16/2023  11:16 PM               431 pyproject.toml\n",
      "06/28/2023  04:44 PM                39 setup.py\n",
      "08/17/2023  01:58 AM               438 README.md\n",
      "08/17/2023  12:45 AM               140 env.yml\n",
      "08/17/2023  02:05 AM    <DIR>          notebooks\n",
      "08/17/2023  02:05 AM        17,699,840 EMG_data_for_gestures-master.zip\n",
      "               5 File(s)     17,700,888 bytes\n",
      "               4 Dir(s)  211,908,984,832 bytes free\n"
     ]
    }
   ],
   "source": [
    "!dir .."
   ],
   "metadata": {
    "collapsed": false
   }
  },
  {
   "cell_type": "code",
   "execution_count": 9,
   "outputs": [],
   "source": [
    "shutil.unpack_archive(zip_data_path, '..')\n",
    "os.rename(os.path.splitext(zip_data_path)[0], '../input-data')\n",
    "os.remove(zip_data_path)"
   ],
   "metadata": {
    "collapsed": false
   }
  },
  {
   "cell_type": "code",
   "source": [
    "# Print the description of the dataset\n",
    "!cat ../input-data/README.txt"
   ],
   "metadata": {
    "colab": {
     "base_uri": "https://localhost:8080/"
    },
    "id": "w55G69Hrqy3Q",
    "outputId": "1f3678b7-7724-4c73-87f8-887574411900"
   },
   "execution_count": 10,
   "outputs": [
    {
     "name": "stdout",
     "output_type": "stream",
     "text": [
      "EMG Pattern Database\n",
      "\n",
      "For recording patterns, we used a MYO Thalmic bracelet worn on a user’s forearm, and a PC with a Bluetooth receiver. The bracelet is equipped with eight sensors equally spaced around the forearm that simultaneously acquire myographic signals. The signals are sent through a Bluetooth interface to a PC. \n",
      "We present raw EMG data for 36 subjects while they performed series of static hand gestures.The subject performs two series, each of which consists of six (seven) basic gestures. Each gesture was performed for 3 seconds with a pause of 3 seconds between gestures.\n",
      "\n",
      "\n",
      "Description of raw_data _*** file\n",
      "Each file consist of 10 columns:\n",
      "1) Time - time in ms;\n",
      "2-9) Channel - eightEMG channels of MYO Thalmic bracelet;\n",
      "10) Class  –thelabel of gestures: \n",
      "0 - unmarked data,\n",
      "1 - hand at rest, \n",
      "2 - hand clenched in a fist, \n",
      "3 - wrist flexion,\n",
      "4 – wrist extension,\n",
      "5 – radial deviations,\n",
      "6 - ulnar deviations,\n",
      "7 - extended palm (the gesture was not performed by all subjects).\n",
      "\n",
      "\n",
      "\n",
      "\n",
      "Relevant Paper:\n",
      "Lobov S., Krilova N., Kastalskiy I., Kazantsev V., Makarov V.A. Latent Factors Limiting the Performance of sEMG-Interfaces. Sensors. 2018;18(4):1122. doi: 10.3390/s18041122\n",
      "\n",
      "\n",
      "Supported by the Ministry of Education and Science of the Russian Federation in the framework of megagrant allocation in accordance with the decree of the government of the Russian Federation №220, project № 14.Y26.31.0022 \n"
     ]
    }
   ]
  },
  {
   "cell_type": "markdown",
   "source": [
    "## Pool the data into a single dataframe"
   ],
   "metadata": {
    "collapsed": false
   }
  },
  {
   "cell_type": "code",
   "execution_count": 11,
   "outputs": [],
   "source": [
    "raw_data_file_paths = glob.glob('../input-data/*/*.txt')"
   ],
   "metadata": {
    "collapsed": false
   }
  },
  {
   "cell_type": "code",
   "source": [
    "df = pd.concat([prep_single_df(fname) for fname in raw_data_file_paths],\n",
    "                ignore_index=True).rename({'class': 'gesture', 'time': 'session_sample_idx'}, axis=1)"
   ],
   "metadata": {
    "id": "XbiEij2tvOBM"
   },
   "execution_count": 24,
   "outputs": []
  },
  {
   "cell_type": "markdown",
   "source": [
    "## Wrangling and tidying"
   ],
   "metadata": {
    "collapsed": false
   }
  },
  {
   "cell_type": "markdown",
   "source": [
    "Partition each session into trials, where on each trial a different gesture is performed."
   ],
   "metadata": {
    "collapsed": false
   }
  },
  {
   "cell_type": "code",
   "execution_count": 25,
   "outputs": [],
   "source": [
    "# Finding trial onsets is the matter of finding a difference in the performed gesture\n",
    "df['first_frame_on_trial'] = df['gesture'].diff().ne(0)\n",
    "df['first_frame_on_trial'] = df['first_frame_on_trial'].replace(\n",
    "    {True: 1, False: np.nan})\n",
    "\n",
    "onsets = df.loc[df['first_frame_on_trial'].notna()]\n",
    "numof_onsets = onsets.shape[0]\n",
    "\n",
    "# Assign trial numbers to each onset\n",
    "df.loc[onsets.index.values, 'trial_num'] = np.concatenate(\n",
    "    onsets.groupby(['subject', 'session']).apply(lambda s: np.arange(s.shape[0])).values)\n",
    "# Forward fill the trial numbers\n",
    "df['trial_num'] = df['trial_num'].ffill().values.astype(int)\n",
    "\n",
    "df = df.drop('first_frame_on_trial', axis=1)"
   ],
   "metadata": {
    "collapsed": false
   }
  },
  {
   "cell_type": "markdown",
   "source": [
    "Mark the sample index within each trial, to be used later for aggregating the data into 200ms bins"
   ],
   "metadata": {
    "collapsed": false
   }
  },
  {
   "cell_type": "code",
   "execution_count": 26,
   "outputs": [],
   "source": [
    "df['trial_sample_idx'] = df.groupby(['subject', 'session', 'trial_num'])['session_sample_idx'].transform(\n",
    "    lambda s: s - s.min())"
   ],
   "metadata": {
    "collapsed": false
   }
  },
  {
   "cell_type": "markdown",
   "source": [
    "## Exploration"
   ],
   "metadata": {
    "collapsed": false
   }
  },
  {
   "cell_type": "markdown",
   "source": [
    "Subject and session are represented as strings, but they should be integers"
   ],
   "metadata": {
    "collapsed": false
   }
  },
  {
   "cell_type": "code",
   "execution_count": 27,
   "outputs": [
    {
     "data": {
      "text/plain": "gesture             float64\nsubject              object\nsession              object\ntrial_num             int32\ntrial_sample_idx      int64\ndtype: object"
     },
     "execution_count": 27,
     "metadata": {},
     "output_type": "execute_result"
    }
   ],
   "source": [
    "df.dtypes.tail()"
   ],
   "metadata": {
    "collapsed": false
   }
  },
  {
   "cell_type": "code",
   "execution_count": 28,
   "outputs": [],
   "source": [
    "df[['subject', 'session']] = df[['subject', 'session']].astype(int)"
   ],
   "metadata": {
    "collapsed": false
   }
  },
  {
   "cell_type": "markdown",
   "source": [
    "Some subjects have more than 7 different gestures, which is not expected"
   ],
   "metadata": {
    "collapsed": false
   }
  },
  {
   "cell_type": "code",
   "execution_count": 29,
   "outputs": [
    {
     "data": {
      "text/plain": "gesture\n7    34\n8     2\nName: count, dtype: int64"
     },
     "execution_count": 29,
     "metadata": {},
     "output_type": "execute_result"
    }
   ],
   "source": [
    "df.groupby('subject')['gesture'].nunique().value_counts()"
   ],
   "metadata": {
    "collapsed": false
   }
  },
  {
   "cell_type": "markdown",
   "source": [
    "We can either remove them, or remove the periods with the extra gesture, either way, here are their subject and session IDs."
   ],
   "metadata": {
    "collapsed": false
   }
  },
  {
   "cell_type": "code",
   "execution_count": 30,
   "outputs": [
    {
     "data": {
      "text/plain": "    subject  session  numof_classes\n20       11        1              8\n21       11        2              8\n58       30        1              8\n59       30        2              8",
      "text/html": "<div>\n<style scoped>\n    .dataframe tbody tr th:only-of-type {\n        vertical-align: middle;\n    }\n\n    .dataframe tbody tr th {\n        vertical-align: top;\n    }\n\n    .dataframe thead th {\n        text-align: right;\n    }\n</style>\n<table border=\"1\" class=\"dataframe\">\n  <thead>\n    <tr style=\"text-align: right;\">\n      <th></th>\n      <th>subject</th>\n      <th>session</th>\n      <th>numof_classes</th>\n    </tr>\n  </thead>\n  <tbody>\n    <tr>\n      <th>20</th>\n      <td>11</td>\n      <td>1</td>\n      <td>8</td>\n    </tr>\n    <tr>\n      <th>21</th>\n      <td>11</td>\n      <td>2</td>\n      <td>8</td>\n    </tr>\n    <tr>\n      <th>58</th>\n      <td>30</td>\n      <td>1</td>\n      <td>8</td>\n    </tr>\n    <tr>\n      <th>59</th>\n      <td>30</td>\n      <td>2</td>\n      <td>8</td>\n    </tr>\n  </tbody>\n</table>\n</div>"
     },
     "execution_count": 30,
     "metadata": {},
     "output_type": "execute_result"
    }
   ],
   "source": [
    "df.groupby(['subject', 'session'])['gesture'].nunique().reset_index(\n",
    "    ).rename({'gesture': 'numof_classes'}, axis=1).query(\n",
    "    'numof_classes > 7')"
   ],
   "metadata": {
    "collapsed": false
   }
  },
  {
   "cell_type": "markdown",
   "source": [
    "There is some unmarked data for one subject and session."
   ],
   "metadata": {
    "collapsed": false
   }
  },
  {
   "cell_type": "code",
   "execution_count": 32,
   "outputs": [
    {
     "data": {
      "text/plain": "         subject  session\n3985214       34        1",
      "text/html": "<div>\n<style scoped>\n    .dataframe tbody tr th:only-of-type {\n        vertical-align: middle;\n    }\n\n    .dataframe tbody tr th {\n        vertical-align: top;\n    }\n\n    .dataframe thead th {\n        text-align: right;\n    }\n</style>\n<table border=\"1\" class=\"dataframe\">\n  <thead>\n    <tr style=\"text-align: right;\">\n      <th></th>\n      <th>subject</th>\n      <th>session</th>\n    </tr>\n  </thead>\n  <tbody>\n    <tr>\n      <th>3985214</th>\n      <td>34</td>\n      <td>1</td>\n    </tr>\n  </tbody>\n</table>\n</div>"
     },
     "execution_count": 32,
     "metadata": {},
     "output_type": "execute_result"
    }
   ],
   "source": [
    "df.loc[df['gesture'].isna(), ['subject', 'session']].head()"
   ],
   "metadata": {
    "collapsed": false
   }
  },
  {
   "cell_type": "markdown",
   "source": [
    "Subjects train on each gesture, with rest intervals in between."
   ],
   "metadata": {
    "collapsed": false
   }
  },
  {
   "cell_type": "code",
   "execution_count": 35,
   "outputs": [
    {
     "data": {
      "text/plain": "[Text(0.5, 0, 'Sample Index'), Text(0, 0.5, 'Gesture #')]"
     },
     "execution_count": 35,
     "metadata": {},
     "output_type": "execute_result"
    },
    {
     "data": {
      "text/plain": "<Figure size 640x480 with 1 Axes>",
      "image/png": "[encoded data removed]"
     },
     "metadata": {},
     "output_type": "display_data"
    }
   ],
   "source": [
    "ax = df.loc[(df['subject'] == 1) & (df['session'] == 1), 'gesture'].plot()\n",
    "ax.set(xlabel='Sample Index', ylabel='Gesture #')"
   ],
   "metadata": {
    "collapsed": false
   }
  },
  {
   "cell_type": "markdown",
   "source": [
    "## Feature engineering"
   ],
   "metadata": {
    "collapsed": false
   }
  },
  {
   "cell_type": "markdown",
   "source": [
    "Common EEG features are root-mean-square and mean-absolute-value, calculated on each value. Here they are calculated per trial, we can also calculate them per period (200MS) within each trial."
   ],
   "metadata": {
    "collapsed": false
   }
  },
  {
   "cell_type": "code",
   "execution_count": 37,
   "outputs": [],
   "source": [
    "agg_args = {k: [root_mean_square, mean_abs_val] for k in df.filter(regex='channel\\d$').columns}\n",
    "\n",
    "aggregated_df = df.groupby(['subject', 'session', 'trial_num'])[\n",
    "    list(agg_args.keys())].agg(\n",
    "    agg_args)"
   ],
   "metadata": {
    "collapsed": false
   }
  },
  {
   "cell_type": "markdown",
   "source": [
    "Accessing the Multindex"
   ],
   "metadata": {
    "collapsed": false
   }
  },
  {
   "cell_type": "code",
   "execution_count": 39,
   "outputs": [
    {
     "data": {
      "text/plain": "root_mean_square    0.000015\nmean_abs_val        0.000011\nName: (1, 1, 0), dtype: float64"
     },
     "execution_count": 39,
     "metadata": {},
     "output_type": "execute_result"
    }
   ],
   "source": [
    "aggregated_df.head().loc[(1, 1, 0), 'channel1']"
   ],
   "metadata": {
    "collapsed": false
   }
  }
 ]
}
